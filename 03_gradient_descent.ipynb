{
 "cells": [
  {
   "cell_type": "code",
   "execution_count": 5,
   "id": "7aa6ad8d-632d-4656-a340-e4331e77562f",
   "metadata": {},
   "outputs": [],
   "source": [
    "import math\n",
    "import pandas as pd\n",
    "import numpy as np\n",
    "import matplotlib.pyplot as plt\n",
    "from sklearn.linear_model import LinearRegression"
   ]
  },
  {
   "cell_type": "code",
   "execution_count": 6,
   "id": "ebaa7838-d04d-4dc2-bfce-0d0fbb9bbf1f",
   "metadata": {},
   "outputs": [
    {
     "data": {
      "text/html": [
       "<div>\n",
       "<style scoped>\n",
       "    .dataframe tbody tr th:only-of-type {\n",
       "        vertical-align: middle;\n",
       "    }\n",
       "\n",
       "    .dataframe tbody tr th {\n",
       "        vertical-align: top;\n",
       "    }\n",
       "\n",
       "    .dataframe thead th {\n",
       "        text-align: right;\n",
       "    }\n",
       "</style>\n",
       "<table border=\"1\" class=\"dataframe\">\n",
       "  <thead>\n",
       "    <tr style=\"text-align: right;\">\n",
       "      <th></th>\n",
       "      <th>name</th>\n",
       "      <th>math</th>\n",
       "      <th>cs</th>\n",
       "    </tr>\n",
       "  </thead>\n",
       "  <tbody>\n",
       "    <tr>\n",
       "      <th>0</th>\n",
       "      <td>david</td>\n",
       "      <td>92</td>\n",
       "      <td>98</td>\n",
       "    </tr>\n",
       "    <tr>\n",
       "      <th>1</th>\n",
       "      <td>laura</td>\n",
       "      <td>56</td>\n",
       "      <td>68</td>\n",
       "    </tr>\n",
       "    <tr>\n",
       "      <th>2</th>\n",
       "      <td>sanjay</td>\n",
       "      <td>88</td>\n",
       "      <td>81</td>\n",
       "    </tr>\n",
       "    <tr>\n",
       "      <th>3</th>\n",
       "      <td>wei</td>\n",
       "      <td>70</td>\n",
       "      <td>80</td>\n",
       "    </tr>\n",
       "    <tr>\n",
       "      <th>4</th>\n",
       "      <td>jeff</td>\n",
       "      <td>80</td>\n",
       "      <td>83</td>\n",
       "    </tr>\n",
       "    <tr>\n",
       "      <th>5</th>\n",
       "      <td>aamir</td>\n",
       "      <td>49</td>\n",
       "      <td>52</td>\n",
       "    </tr>\n",
       "    <tr>\n",
       "      <th>6</th>\n",
       "      <td>venkat</td>\n",
       "      <td>65</td>\n",
       "      <td>66</td>\n",
       "    </tr>\n",
       "    <tr>\n",
       "      <th>7</th>\n",
       "      <td>virat</td>\n",
       "      <td>35</td>\n",
       "      <td>30</td>\n",
       "    </tr>\n",
       "    <tr>\n",
       "      <th>8</th>\n",
       "      <td>arthur</td>\n",
       "      <td>66</td>\n",
       "      <td>68</td>\n",
       "    </tr>\n",
       "    <tr>\n",
       "      <th>9</th>\n",
       "      <td>paul</td>\n",
       "      <td>67</td>\n",
       "      <td>73</td>\n",
       "    </tr>\n",
       "  </tbody>\n",
       "</table>\n",
       "</div>"
      ],
      "text/plain": [
       "     name  math  cs\n",
       "0   david    92  98\n",
       "1   laura    56  68\n",
       "2  sanjay    88  81\n",
       "3     wei    70  80\n",
       "4    jeff    80  83\n",
       "5   aamir    49  52\n",
       "6  venkat    65  66\n",
       "7   virat    35  30\n",
       "8  arthur    66  68\n",
       "9    paul    67  73"
      ]
     },
     "execution_count": 6,
     "metadata": {},
     "output_type": "execute_result"
    }
   ],
   "source": [
    "df = pd.read_csv('data/03_test_scores.csv')\n",
    "df"
   ]
  },
  {
   "cell_type": "markdown",
   "id": "cfcbdc1f-26a2-4777-9dc0-a6711d4c4cb1",
   "metadata": {},
   "source": [
    "**Function**\n",
    "\n",
    "$y = mx + b$\n",
    "\n",
    "\"x\" is the 'math' column.<br>\n",
    "\"y\" is the 'cs' column.\n",
    "\n",
    "The goal is to find coef \"m\" and intercept \"b\"."
   ]
  },
  {
   "cell_type": "markdown",
   "id": "ddb3b039-6daf-465f-b0b1-fc3ace5db259",
   "metadata": {},
   "source": [
    "### Gradient Descent method"
   ]
  },
  {
   "cell_type": "markdown",
   "id": "c311c896-79f6-454b-bed9-b7c654469057",
   "metadata": {},
   "source": [
    "**Derivatives**\n",
    "\n",
    "- $\\frac{d}{dm} = \\frac{2}{n} \\sum_{i=1}^{n}-x_i(y_i-(mx_i+b))$\n",
    "- $\\frac{d}{db} = \\frac{2}{n} \\sum_{i=1}^{n}-(y_i-(mx_i+b))$\n",
    "\n",
    "**m and b**\n",
    "\n",
    "- $m = m - learning\\_rate * \\frac{d}{dm}$\n",
    "- $b = b - learning\\_rate * \\frac{d}{db}$\n",
    "\n",
    "**Cost function:**\n",
    "\n",
    "- $mse = \\frac{1}{n} \\sum_{i=1}^{n}(y_i-y_{predicted})^2$"
   ]
  },
  {
   "cell_type": "code",
   "execution_count": 7,
   "id": "e7620cd2-12f5-4366-8139-65f7765413e5",
   "metadata": {},
   "outputs": [],
   "source": [
    "def gradient_descent(x, y):\n",
    "    plt.scatter(x, y, color='red', marker='+')\n",
    "    plt.show()\n",
    "\n",
    "    m_curr = 0\n",
    "    b_curr = 0\n",
    "    n = len(x)\n",
    "    iterations = 400000\n",
    "    learning_rate = 0.00021\n",
    "    cost_previous = 0\n",
    "\n",
    "    for i in range(iterations):\n",
    "        y_predicted = m_curr * x + b_curr\n",
    "        cost = (1 / n) * sum([val ** 2 for val in (y - y_predicted)])\n",
    "\n",
    "        if math.isclose(cost, cost_previous, rel_tol=1e-20):\n",
    "            # print(f\"Iterations: {i+1}\")\n",
    "            break\n",
    "        # plt.plot(x, y_predicted, color='blue')\n",
    "\n",
    "        # derivatives d/dm and d/db\n",
    "        md = -(2 / n) * sum(x * (y - y_predicted))\n",
    "        bd = -(2 / n) * sum(y - y_predicted)\n",
    "    \n",
    "        # m and b\n",
    "        m_curr = m_curr - learning_rate * md\n",
    "        b_curr = b_curr - learning_rate * bd\n",
    "        \n",
    "        # print(\"m {}, b {}, cost {}, iteration {}\".format(m_curr, b_curr, cost, i))\n",
    "        cost_previous = cost\n",
    "    \n",
    "    return m_curr, b_curr"
   ]
  },
  {
   "cell_type": "markdown",
   "id": "5fe0ce75-dc61-4f7d-babc-a03677121246",
   "metadata": {},
   "source": [
    "### Linear Regression method"
   ]
  },
  {
   "cell_type": "code",
   "execution_count": 8,
   "id": "78f12d7f-9d77-4f48-b3c3-e8f42e98d7e6",
   "metadata": {},
   "outputs": [],
   "source": [
    "def linear_regression():\n",
    "    lin_reg = LinearRegression()\n",
    "    lin_reg.fit(df[['math']], df['cs'])\n",
    "    return lin_reg.coef_, lin_reg.intercept_"
   ]
  },
  {
   "cell_type": "markdown",
   "id": "a582368c-bc2b-41bb-b026-6090f0d5cf1e",
   "metadata": {},
   "source": [
    "### Comparing methods"
   ]
  },
  {
   "cell_type": "code",
   "execution_count": 9,
   "id": "d963ab41-56ca-4f58-9df2-a624cdcf65c9",
   "metadata": {},
   "outputs": [
    {
     "data": {
      "image/png": "[encoded data removed]",
      "text/plain": [
       "<Figure size 640x480 with 1 Axes>"
      ]
     },
     "metadata": {},
     "output_type": "display_data"
    },
    {
     "name": "stdout",
     "output_type": "stream",
     "text": [
      "Gradient Descent\n",
      "Coef m: 1.0177384103778218\n",
      "Intercept b: 1.9150653502407735\n",
      "Linear Regression\n",
      "Coef m: [1.01773624]\n",
      "Intercept b: 1.9152193111569318\n"
     ]
    }
   ],
   "source": [
    "results_math = np.array(df['math'])\n",
    "results_cs = np.array(df['cs'])\n",
    "\n",
    "# result of gradient descent method\n",
    "m1, b1 = gradient_descent(results_math, results_cs)\n",
    "print(\"Gradient Descent\\nCoef m: {}\\nIntercept b: {}\".format(m1, b1))\n",
    "\n",
    "# result of linear regression method\n",
    "m2, b2 = linear_regression()\n",
    "print(\"Linear Regression\\nCoef m: {}\\nIntercept b: {}\".format(m2, b2))"
   ]
  }
 ],
 "metadata": {
  "kernelspec": {
   "display_name": "Python 3 (ipykernel)",
   "language": "python",
   "name": "python3"
  },
  "language_info": {
   "codemirror_mode": {
    "name": "ipython",
    "version": 3
   },
   "file_extension": ".py",
   "mimetype": "text/x-python",
   "name": "python",
   "nbconvert_exporter": "python",
   "pygments_lexer": "ipython3",
   "version": "3.12.4"
  }
 },
 "nbformat": 4,
 "nbformat_minor": 5
}
